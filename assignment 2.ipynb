{
 "cells": [
  {
   "cell_type": "code",
   "execution_count": 1,
   "id": "37ebd857",
   "metadata": {},
   "outputs": [],
   "source": [
    "import pandas as pd\n",
    "\n",
    "# Runs scored by players in different matches\n",
    "data = {\n",
    "    \"Match 1\": [45, 60, 20, 80, 55],\n",
    "    \"Match 2\": [30, 50, 40, 90, 65],\n",
    "    \"Match 3\": [70, 20, 35, 60, 40],\n",
    "    \"Match 4\": [25, 45, 15, 100, 75],\n",
    "}\n",
    "players = [\"Player 1\", \"Player 2\", \"Player 3\", \"Player 4\", \"Player 5\"]\n",
    "\n",
    "# Creating the DataFrame\n",
    "performance = pd.DataFrame(data, index=players)"
   ]
  },
  {
   "cell_type": "code",
   "execution_count": 2,
   "id": "125ef941",
   "metadata": {},
   "outputs": [
    {
     "name": "stdout",
     "output_type": "stream",
     "text": [
      "          Match 1  Match 2  Match 3  Match 4\n",
      "Player 1       45       30       70       25\n",
      "Player 2       60       50       20       45\n",
      "Player 3       20       40       35       15\n"
     ]
    }
   ],
   "source": [
    "print(performance.head(3))\n"
   ]
  },
  {
   "cell_type": "code",
   "execution_count": 3,
   "id": "2977ff4c",
   "metadata": {},
   "outputs": [
    {
     "name": "stdout",
     "output_type": "stream",
     "text": [
      "Number of players: 5\n",
      "Number of matches: 4\n"
     ]
    }
   ],
   "source": [
    "num_players, num_matches = performance.shape\n",
    "print(f\"Number of players: {num_players}\")\n",
    "print(f\"Number of matches: {num_matches}\")\n"
   ]
  },
  {
   "cell_type": "code",
   "execution_count": 4,
   "id": "e83ba12d",
   "metadata": {},
   "outputs": [
    {
     "name": "stdout",
     "output_type": "stream",
     "text": [
      "Match names: ['Match 1', 'Match 2', 'Match 3', 'Match 4']\n",
      "Player names: ['Player 1', 'Player 2', 'Player 3', 'Player 4', 'Player 5']\n"
     ]
    }
   ],
   "source": [
    "print(\"Match names:\", performance.columns.tolist())\n",
    "print(\"Player names:\", performance.index.tolist())"
   ]
  },
  {
   "cell_type": "code",
   "execution_count": 5,
   "id": "341149ae",
   "metadata": {},
   "outputs": [
    {
     "name": "stdout",
     "output_type": "stream",
     "text": [
      "Match 1    int64\n",
      "Match 2    int64\n",
      "Match 3    int64\n",
      "Match 4    int64\n",
      "dtype: object\n"
     ]
    }
   ],
   "source": [
    "print(performance.dtypes)\n"
   ]
  },
  {
   "cell_type": "code",
   "execution_count": 6,
   "id": "82249a20",
   "metadata": {},
   "outputs": [
    {
     "name": "stdout",
     "output_type": "stream",
     "text": [
      "Match 1    0\n",
      "Match 2    0\n",
      "Match 3    0\n",
      "Match 4    0\n",
      "dtype: int64\n"
     ]
    }
   ],
   "source": [
    "print(performance.isnull().sum()) \n"
   ]
  },
  {
   "cell_type": "code",
   "execution_count": 7,
   "id": "46b59698",
   "metadata": {},
   "outputs": [
    {
     "name": "stdout",
     "output_type": "stream",
     "text": [
      "Match 1     80\n",
      "Match 2     90\n",
      "Match 3     60\n",
      "Match 4    100\n",
      "Name: Player 4, dtype: int64\n"
     ]
    }
   ],
   "source": [
    "print(performance.loc[\"Player 4\"])\n"
   ]
  },
  {
   "cell_type": "code",
   "execution_count": 8,
   "id": "7d3bfdb3",
   "metadata": {},
   "outputs": [
    {
     "name": "stdout",
     "output_type": "stream",
     "text": [
      "Player 1    30\n",
      "Player 2    50\n",
      "Player 3    40\n",
      "Player 4    90\n",
      "Player 5    65\n",
      "Name: Match 2, dtype: int64\n"
     ]
    }
   ],
   "source": [
    "print(performance[\"Match 2\"])\n"
   ]
  },
  {
   "cell_type": "code",
   "execution_count": 9,
   "id": "a677b477",
   "metadata": {},
   "outputs": [
    {
     "name": "stdout",
     "output_type": "stream",
     "text": [
      "          Match 1  Match 4\n",
      "Player 1       45       25\n",
      "Player 3       20       15\n"
     ]
    }
   ],
   "source": [
    "print(performance.loc[[\"Player 1\", \"Player 3\"], [\"Match 1\", \"Match 4\"]])\n"
   ]
  },
  {
   "cell_type": "code",
   "execution_count": 10,
   "id": "e6c13435",
   "metadata": {},
   "outputs": [
    {
     "name": "stdout",
     "output_type": "stream",
     "text": [
      "          Match 1  Match 2\n",
      "Player 1       45       30\n",
      "Player 2       60       50\n",
      "Player 3       20       40\n"
     ]
    }
   ],
   "source": [
    "print(performance.iloc[:3, :2])\n"
   ]
  },
  {
   "cell_type": "code",
   "execution_count": 11,
   "id": "67885b3d",
   "metadata": {},
   "outputs": [
    {
     "name": "stdout",
     "output_type": "stream",
     "text": [
      "40\n"
     ]
    }
   ],
   "source": [
    "print(performance.loc[\"Player 5\", \"Match 3\"])\n"
   ]
  },
  {
   "cell_type": "code",
   "execution_count": null,
   "id": "b640f583",
   "metadata": {},
   "outputs": [],
   "source": []
  }
 ],
 "metadata": {
  "kernelspec": {
   "display_name": "Python 3 (ipykernel)",
   "language": "python",
   "name": "python3"
  },
  "language_info": {
   "codemirror_mode": {
    "name": "ipython",
    "version": 3
   },
   "file_extension": ".py",
   "mimetype": "text/x-python",
   "name": "python",
   "nbconvert_exporter": "python",
   "pygments_lexer": "ipython3",
   "version": "3.11.5"
  }
 },
 "nbformat": 4,
 "nbformat_minor": 5
}
